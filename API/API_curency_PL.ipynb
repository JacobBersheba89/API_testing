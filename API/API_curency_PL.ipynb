{
 "cells": [
  {
   "cell_type": "code",
   "execution_count": null,
   "id": "c46a00cf-ae07-48c6-9ee9-cc82bed07422",
   "metadata": {},
   "outputs": [],
   "source": [
    "import requests\n",
    "\n",
    "API_KEY = '19261caec96338d27febcb6d491e981b'\n",
    "api_url = f\"https://api.exchangeratesapi.io/v1/latest?access_key={19261caec96338d27febcb6d491e981b}&base=EUR\"\n",
    "\n",
    "reponse = requests.get(api_url)\n",
    "\n",
    "# check if the response is valid\n",
    "if response.status_code == 200:\n",
    "    data = response.json()\n",
    "\n",
    "    # extract the rates dictionary\n",
    "    rates = data['rates']\n",
    "\n",
    "    # iterate\n",
    "    for currency, rate in rates.items():\n",
    "        print(f\"- {rate: .4f} EUR/{currency}\")\n",
    "else:\n",
    "    print(\"Failed to retrieve data from the API.\")"
   ]
  },
  {
   "cell_type": "code",
   "execution_count": null,
   "id": "1646b8cf-07e7-43b8-b6c9-d2524a8463f8",
   "metadata": {},
   "outputs": [],
   "source": []
  },
  {
   "cell_type": "code",
   "execution_count": null,
   "id": "66cbe5d0-ee3a-4da7-91c8-dfc834df14f9",
   "metadata": {},
   "outputs": [],
   "source": []
  }
 ],
 "metadata": {
  "kernelspec": {
   "display_name": "Python 3 (ipykernel)",
   "language": "python",
   "name": "python3"
  },
  "language_info": {
   "codemirror_mode": {
    "name": "ipython",
    "version": 3
   },
   "file_extension": ".py",
   "mimetype": "text/x-python",
   "name": "python",
   "nbconvert_exporter": "python",
   "pygments_lexer": "ipython3",
   "version": "3.12.4"
  }
 },
 "nbformat": 4,
 "nbformat_minor": 5
}
